{
 "cells": [
  {
   "cell_type": "markdown",
   "id": "26eaac47",
   "metadata": {},
   "source": [
    "# Data Science Final Project - Rizky Maulana Saputra"
   ]
  },
  {
   "cell_type": "markdown",
   "id": "f2af4a78",
   "metadata": {},
   "source": [
    "## Data Understanding"
   ]
  },
  {
   "cell_type": "markdown",
   "id": "608c4d78",
   "metadata": {},
   "source": [
    "Dataset yang digunakan diambil dari Spada UMS terkait Student Academic Performance\n",
    "\n",
    "Dataset ini memiliki 1.000 baris dan 16 kolom data yang mempresentasikan :\n",
    "- student_id : ID unik yang dimiliki pelajar\n",
    "- age : Umur dari pelajar\n",
    "- gender : Kelamin dari setiap pelajar\n",
    "- study_hours_per_day : Total jam belajar pelajar perharinya\n",
    "- social_media_hours : Total jam menggunakan Social Media perharinya\n",
    "- netflix_hours : Total jam menggunakan Netflix perharinya\n",
    "- part_time_job : Pelajar melakukan Part Time Job (Yes/No)\n",
    "- attendance_percentage : Persentase kedatangan pelajar\n",
    "- sleep_hours : Total jam tidur perharinya\n",
    "- diet_quality : Kondisi Diet Quality tiap pelajar (Poor/Good/Fair)\n",
    "- exercise_frequency : Frekuensi Exercise dari setiap pelajar\n",
    "- parental_education_level : Pendidikan terakhir Orang Tua\n",
    "- internet_quality : Kualitas dari Internet yang digunakan pelajar (Poor/Average/Good)\n",
    "- mental_health_rating : Rating dari Mental Health pelajar (1-10)\n",
    "- extracurricular_participation : Ekstrakulikuler yang di ikuti pelajar\n",
    "- exam_score : Nilai Ujian Pelajar\n",
    "\n",
    "Kondisi Data :\n",
    "- Missing Values : Dilakukan pada Exploratory Data Analytics yakni terdapat missing values pada kolom gender (5), attendance_percentage (3) dan parental_education_level (91)\n",
    "- Duplicated Data : Dilakukan pada Exploratory Data Analytics yakni tidak terdapat duplikat pada data\n",
    "- Outlier : Dilakukan pada Exploratory Data Analytics terlihat terdapat outlier di kolom :"
   ]
  },
  {
   "cell_type": "markdown",
   "id": "2fe7e7bb",
   "metadata": {},
   "source": [
    "- Import Library"
   ]
  },
  {
   "cell_type": "code",
   "execution_count": 1,
   "id": "2bff566e",
   "metadata": {},
   "outputs": [],
   "source": [
    "import pandas as pd\n",
    "import numpy as np\n",
    "import seaborn as sns\n",
    "import matplotlib.pyplot as plt\n",
    "from sklearn.preprocessing import StandardScaler\n",
    "from sklearn.model_selection import train_test_split"
   ]
  },
  {
   "cell_type": "markdown",
   "id": "ef1ac30c",
   "metadata": {},
   "source": [
    "- Load Dataset"
   ]
  },
  {
   "cell_type": "code",
   "execution_count": 2,
   "id": "39b63578",
   "metadata": {},
   "outputs": [],
   "source": [
    "df = pd.read_csv('../data/student_habits.csv')"
   ]
  },
  {
   "cell_type": "code",
   "execution_count": 3,
   "id": "e4102dfd",
   "metadata": {},
   "outputs": [
    {
     "data": {
      "application/vnd.microsoft.datawrangler.viewer.v0+json": {
       "columns": [
        {
         "name": "index",
         "rawType": "int64",
         "type": "integer"
        },
        {
         "name": "student_id",
         "rawType": "object",
         "type": "string"
        },
        {
         "name": "age",
         "rawType": "int64",
         "type": "integer"
        },
        {
         "name": "gender",
         "rawType": "object",
         "type": "string"
        },
        {
         "name": "study_hours_per_day",
         "rawType": "float64",
         "type": "float"
        },
        {
         "name": "social_media_hours",
         "rawType": "float64",
         "type": "float"
        },
        {
         "name": "netflix_hours",
         "rawType": "float64",
         "type": "float"
        },
        {
         "name": "part_time_job",
         "rawType": "object",
         "type": "string"
        },
        {
         "name": "attendance_percentage",
         "rawType": "float64",
         "type": "float"
        },
        {
         "name": "sleep_hours",
         "rawType": "float64",
         "type": "float"
        },
        {
         "name": "diet_quality",
         "rawType": "object",
         "type": "string"
        },
        {
         "name": "exercise_frequency",
         "rawType": "int64",
         "type": "integer"
        },
        {
         "name": "parental_education_level",
         "rawType": "object",
         "type": "string"
        },
        {
         "name": "internet_quality",
         "rawType": "object",
         "type": "string"
        },
        {
         "name": "mental_health_rating",
         "rawType": "int64",
         "type": "integer"
        },
        {
         "name": "extracurricular_participation",
         "rawType": "object",
         "type": "string"
        },
        {
         "name": "exam_score",
         "rawType": "float64",
         "type": "float"
        }
       ],
       "ref": "504352fa-0b7d-4f56-843a-3c029d415869",
       "rows": [
        [
         "0",
         "S1000",
         "23",
         "Female",
         "0.0",
         "1.2",
         "1.1",
         "No",
         "85.0",
         "8.0",
         "Fair",
         "6",
         "Master",
         "Average",
         "8",
         "Yes",
         "56.2"
        ],
        [
         "1",
         "S1001",
         "20",
         "Female",
         "6.9",
         "2.8",
         "2.3",
         "No",
         "97.3",
         "4.6",
         "Good",
         "6",
         "High School",
         "Average",
         "8",
         "No",
         "100.0"
        ],
        [
         "2",
         "S1002",
         "21",
         "Male",
         "1.4",
         "3.1",
         "1.3",
         "No",
         "94.8",
         "8.0",
         "Poor",
         "1",
         "High School",
         "Poor",
         "1",
         "No",
         "34.3"
        ],
        [
         "3",
         "S1003",
         "23",
         "Female",
         "1.0",
         "3.9",
         "1.0",
         "No",
         "71.0",
         "9.2",
         "Poor",
         "4",
         "Master",
         "Good",
         "1",
         "Yes",
         "26.8"
        ],
        [
         "4",
         "S1004",
         "19",
         "Female",
         "5.0",
         "4.4",
         "0.5",
         "No",
         "90.9",
         "4.9",
         "Fair",
         "3",
         "Master",
         "Good",
         "1",
         "No",
         "66.4"
        ]
       ],
       "shape": {
        "columns": 16,
        "rows": 5
       }
      },
      "text/html": [
       "<div>\n",
       "<style scoped>\n",
       "    .dataframe tbody tr th:only-of-type {\n",
       "        vertical-align: middle;\n",
       "    }\n",
       "\n",
       "    .dataframe tbody tr th {\n",
       "        vertical-align: top;\n",
       "    }\n",
       "\n",
       "    .dataframe thead th {\n",
       "        text-align: right;\n",
       "    }\n",
       "</style>\n",
       "<table border=\"1\" class=\"dataframe\">\n",
       "  <thead>\n",
       "    <tr style=\"text-align: right;\">\n",
       "      <th></th>\n",
       "      <th>student_id</th>\n",
       "      <th>age</th>\n",
       "      <th>gender</th>\n",
       "      <th>study_hours_per_day</th>\n",
       "      <th>social_media_hours</th>\n",
       "      <th>netflix_hours</th>\n",
       "      <th>part_time_job</th>\n",
       "      <th>attendance_percentage</th>\n",
       "      <th>sleep_hours</th>\n",
       "      <th>diet_quality</th>\n",
       "      <th>exercise_frequency</th>\n",
       "      <th>parental_education_level</th>\n",
       "      <th>internet_quality</th>\n",
       "      <th>mental_health_rating</th>\n",
       "      <th>extracurricular_participation</th>\n",
       "      <th>exam_score</th>\n",
       "    </tr>\n",
       "  </thead>\n",
       "  <tbody>\n",
       "    <tr>\n",
       "      <th>0</th>\n",
       "      <td>S1000</td>\n",
       "      <td>23</td>\n",
       "      <td>Female</td>\n",
       "      <td>0.0</td>\n",
       "      <td>1.2</td>\n",
       "      <td>1.1</td>\n",
       "      <td>No</td>\n",
       "      <td>85.0</td>\n",
       "      <td>8.0</td>\n",
       "      <td>Fair</td>\n",
       "      <td>6</td>\n",
       "      <td>Master</td>\n",
       "      <td>Average</td>\n",
       "      <td>8</td>\n",
       "      <td>Yes</td>\n",
       "      <td>56.2</td>\n",
       "    </tr>\n",
       "    <tr>\n",
       "      <th>1</th>\n",
       "      <td>S1001</td>\n",
       "      <td>20</td>\n",
       "      <td>Female</td>\n",
       "      <td>6.9</td>\n",
       "      <td>2.8</td>\n",
       "      <td>2.3</td>\n",
       "      <td>No</td>\n",
       "      <td>97.3</td>\n",
       "      <td>4.6</td>\n",
       "      <td>Good</td>\n",
       "      <td>6</td>\n",
       "      <td>High School</td>\n",
       "      <td>Average</td>\n",
       "      <td>8</td>\n",
       "      <td>No</td>\n",
       "      <td>100.0</td>\n",
       "    </tr>\n",
       "    <tr>\n",
       "      <th>2</th>\n",
       "      <td>S1002</td>\n",
       "      <td>21</td>\n",
       "      <td>Male</td>\n",
       "      <td>1.4</td>\n",
       "      <td>3.1</td>\n",
       "      <td>1.3</td>\n",
       "      <td>No</td>\n",
       "      <td>94.8</td>\n",
       "      <td>8.0</td>\n",
       "      <td>Poor</td>\n",
       "      <td>1</td>\n",
       "      <td>High School</td>\n",
       "      <td>Poor</td>\n",
       "      <td>1</td>\n",
       "      <td>No</td>\n",
       "      <td>34.3</td>\n",
       "    </tr>\n",
       "    <tr>\n",
       "      <th>3</th>\n",
       "      <td>S1003</td>\n",
       "      <td>23</td>\n",
       "      <td>Female</td>\n",
       "      <td>1.0</td>\n",
       "      <td>3.9</td>\n",
       "      <td>1.0</td>\n",
       "      <td>No</td>\n",
       "      <td>71.0</td>\n",
       "      <td>9.2</td>\n",
       "      <td>Poor</td>\n",
       "      <td>4</td>\n",
       "      <td>Master</td>\n",
       "      <td>Good</td>\n",
       "      <td>1</td>\n",
       "      <td>Yes</td>\n",
       "      <td>26.8</td>\n",
       "    </tr>\n",
       "    <tr>\n",
       "      <th>4</th>\n",
       "      <td>S1004</td>\n",
       "      <td>19</td>\n",
       "      <td>Female</td>\n",
       "      <td>5.0</td>\n",
       "      <td>4.4</td>\n",
       "      <td>0.5</td>\n",
       "      <td>No</td>\n",
       "      <td>90.9</td>\n",
       "      <td>4.9</td>\n",
       "      <td>Fair</td>\n",
       "      <td>3</td>\n",
       "      <td>Master</td>\n",
       "      <td>Good</td>\n",
       "      <td>1</td>\n",
       "      <td>No</td>\n",
       "      <td>66.4</td>\n",
       "    </tr>\n",
       "  </tbody>\n",
       "</table>\n",
       "</div>"
      ],
      "text/plain": [
       "  student_id  age  gender  study_hours_per_day  social_media_hours  \\\n",
       "0      S1000   23  Female                  0.0                 1.2   \n",
       "1      S1001   20  Female                  6.9                 2.8   \n",
       "2      S1002   21    Male                  1.4                 3.1   \n",
       "3      S1003   23  Female                  1.0                 3.9   \n",
       "4      S1004   19  Female                  5.0                 4.4   \n",
       "\n",
       "   netflix_hours part_time_job  attendance_percentage  sleep_hours  \\\n",
       "0            1.1            No                   85.0          8.0   \n",
       "1            2.3            No                   97.3          4.6   \n",
       "2            1.3            No                   94.8          8.0   \n",
       "3            1.0            No                   71.0          9.2   \n",
       "4            0.5            No                   90.9          4.9   \n",
       "\n",
       "  diet_quality  exercise_frequency parental_education_level internet_quality  \\\n",
       "0         Fair                   6                   Master          Average   \n",
       "1         Good                   6              High School          Average   \n",
       "2         Poor                   1              High School             Poor   \n",
       "3         Poor                   4                   Master             Good   \n",
       "4         Fair                   3                   Master             Good   \n",
       "\n",
       "   mental_health_rating extracurricular_participation  exam_score  \n",
       "0                     8                           Yes        56.2  \n",
       "1                     8                            No       100.0  \n",
       "2                     1                            No        34.3  \n",
       "3                     1                           Yes        26.8  \n",
       "4                     1                            No        66.4  "
      ]
     },
     "execution_count": 3,
     "metadata": {},
     "output_type": "execute_result"
    }
   ],
   "source": [
    "df.head()"
   ]
  },
  {
   "cell_type": "markdown",
   "id": "2fa5f631",
   "metadata": {},
   "source": [
    "## Exploratory Data Analytics\n"
   ]
  },
  {
   "cell_type": "markdown",
   "id": "1a830db2",
   "metadata": {},
   "source": [
    "1. Pemeriksaan Struktur Data, Missing Values dan Duplicate Data"
   ]
  },
  {
   "cell_type": "code",
   "execution_count": 5,
   "id": "94e5af76",
   "metadata": {},
   "outputs": [
    {
     "data": {
      "application/vnd.microsoft.datawrangler.viewer.v0+json": {
       "columns": [
        {
         "name": "index",
         "rawType": "object",
         "type": "string"
        },
        {
         "name": "0",
         "rawType": "object",
         "type": "unknown"
        }
       ],
       "ref": "fdf7ee09-9cb5-4756-bb9b-12863b87d76b",
       "rows": [
        [
         "student_id",
         "object"
        ],
        [
         "age",
         "int64"
        ],
        [
         "gender",
         "object"
        ],
        [
         "study_hours_per_day",
         "float64"
        ],
        [
         "social_media_hours",
         "float64"
        ],
        [
         "netflix_hours",
         "float64"
        ],
        [
         "part_time_job",
         "object"
        ],
        [
         "attendance_percentage",
         "float64"
        ],
        [
         "sleep_hours",
         "float64"
        ],
        [
         "diet_quality",
         "object"
        ],
        [
         "exercise_frequency",
         "int64"
        ],
        [
         "parental_education_level",
         "object"
        ],
        [
         "internet_quality",
         "object"
        ],
        [
         "mental_health_rating",
         "int64"
        ],
        [
         "extracurricular_participation",
         "object"
        ],
        [
         "exam_score",
         "float64"
        ]
       ],
       "shape": {
        "columns": 1,
        "rows": 16
       }
      },
      "text/plain": [
       "student_id                        object\n",
       "age                                int64\n",
       "gender                            object\n",
       "study_hours_per_day              float64\n",
       "social_media_hours               float64\n",
       "netflix_hours                    float64\n",
       "part_time_job                     object\n",
       "attendance_percentage            float64\n",
       "sleep_hours                      float64\n",
       "diet_quality                      object\n",
       "exercise_frequency                 int64\n",
       "parental_education_level          object\n",
       "internet_quality                  object\n",
       "mental_health_rating               int64\n",
       "extracurricular_participation     object\n",
       "exam_score                       float64\n",
       "dtype: object"
      ]
     },
     "execution_count": 5,
     "metadata": {},
     "output_type": "execute_result"
    }
   ],
   "source": [
    "df.dtypes"
   ]
  },
  {
   "cell_type": "code",
   "execution_count": 6,
   "id": "73c134ad",
   "metadata": {},
   "outputs": [
    {
     "data": {
      "application/vnd.microsoft.datawrangler.viewer.v0+json": {
       "columns": [
        {
         "name": "index",
         "rawType": "object",
         "type": "string"
        },
        {
         "name": "0",
         "rawType": "int64",
         "type": "integer"
        }
       ],
       "ref": "ee745a0a-b266-406c-ae2d-4f48dadaf214",
       "rows": [
        [
         "student_id",
         "0"
        ],
        [
         "age",
         "0"
        ],
        [
         "gender",
         "5"
        ],
        [
         "study_hours_per_day",
         "0"
        ],
        [
         "social_media_hours",
         "0"
        ],
        [
         "netflix_hours",
         "0"
        ],
        [
         "part_time_job",
         "0"
        ],
        [
         "attendance_percentage",
         "3"
        ],
        [
         "sleep_hours",
         "0"
        ],
        [
         "diet_quality",
         "0"
        ],
        [
         "exercise_frequency",
         "0"
        ],
        [
         "parental_education_level",
         "91"
        ],
        [
         "internet_quality",
         "0"
        ],
        [
         "mental_health_rating",
         "0"
        ],
        [
         "extracurricular_participation",
         "0"
        ],
        [
         "exam_score",
         "0"
        ]
       ],
       "shape": {
        "columns": 1,
        "rows": 16
       }
      },
      "text/plain": [
       "student_id                        0\n",
       "age                               0\n",
       "gender                            5\n",
       "study_hours_per_day               0\n",
       "social_media_hours                0\n",
       "netflix_hours                     0\n",
       "part_time_job                     0\n",
       "attendance_percentage             3\n",
       "sleep_hours                       0\n",
       "diet_quality                      0\n",
       "exercise_frequency                0\n",
       "parental_education_level         91\n",
       "internet_quality                  0\n",
       "mental_health_rating              0\n",
       "extracurricular_participation     0\n",
       "exam_score                        0\n",
       "dtype: int64"
      ]
     },
     "execution_count": 6,
     "metadata": {},
     "output_type": "execute_result"
    }
   ],
   "source": [
    "df.isna().sum()"
   ]
  },
  {
   "cell_type": "code",
   "execution_count": 7,
   "id": "3adfdb17",
   "metadata": {},
   "outputs": [
    {
     "data": {
      "text/plain": [
       "np.int64(0)"
      ]
     },
     "execution_count": 7,
     "metadata": {},
     "output_type": "execute_result"
    }
   ],
   "source": [
    "df.duplicated().sum()"
   ]
  },
  {
   "cell_type": "markdown",
   "id": "1d47480d",
   "metadata": {},
   "source": [
    "2. Statistik Deskriptif"
   ]
  },
  {
   "cell_type": "code",
   "execution_count": 8,
   "id": "7dd84297",
   "metadata": {},
   "outputs": [
    {
     "data": {
      "application/vnd.microsoft.datawrangler.viewer.v0+json": {
       "columns": [
        {
         "name": "index",
         "rawType": "object",
         "type": "string"
        },
        {
         "name": "age",
         "rawType": "float64",
         "type": "float"
        },
        {
         "name": "study_hours_per_day",
         "rawType": "float64",
         "type": "float"
        },
        {
         "name": "social_media_hours",
         "rawType": "float64",
         "type": "float"
        },
        {
         "name": "netflix_hours",
         "rawType": "float64",
         "type": "float"
        },
        {
         "name": "attendance_percentage",
         "rawType": "float64",
         "type": "float"
        },
        {
         "name": "sleep_hours",
         "rawType": "float64",
         "type": "float"
        },
        {
         "name": "exercise_frequency",
         "rawType": "float64",
         "type": "float"
        },
        {
         "name": "mental_health_rating",
         "rawType": "float64",
         "type": "float"
        },
        {
         "name": "exam_score",
         "rawType": "float64",
         "type": "float"
        }
       ],
       "ref": "ca90c2b8-f8c6-4b37-97e3-2c931d7486be",
       "rows": [
        [
         "count",
         "1000.0",
         "1000.0",
         "1000.0",
         "1000.0",
         "997.0",
         "1000.0",
         "1000.0",
         "1000.0",
         "1000.0"
        ],
        [
         "mean",
         "20.498",
         "3.5501000000000005",
         "2.5055",
         "1.8197",
         "83.99528585757272",
         "6.4701",
         "3.042",
         "5.438",
         "69.6015"
        ],
        [
         "std",
         "2.308099504640847",
         "1.4688899303990164",
         "1.172422417187732",
         "1.0751175692861632",
         "9.909687962067867",
         "1.2263767732593396",
         "2.025423002322808",
         "2.847501407245353",
         "16.888563921818257"
        ],
        [
         "min",
         "17.0",
         "0.0",
         "0.0",
         "0.0",
         "10.0",
         "3.2",
         "0.0",
         "1.0",
         "18.4"
        ],
        [
         "25%",
         "18.75",
         "2.6",
         "1.7",
         "1.0",
         "77.9",
         "5.6",
         "1.0",
         "3.0",
         "58.475"
        ],
        [
         "50%",
         "20.0",
         "3.5",
         "2.5",
         "1.8",
         "84.4",
         "6.5",
         "3.0",
         "5.0",
         "70.5"
        ],
        [
         "75%",
         "23.0",
         "4.5",
         "3.3",
         "2.525",
         "91.1",
         "7.3",
         "5.0",
         "8.0",
         "81.325"
        ],
        [
         "max",
         "24.0",
         "8.3",
         "7.2",
         "5.4",
         "100.0",
         "10.0",
         "6.0",
         "10.0",
         "100.0"
        ]
       ],
       "shape": {
        "columns": 9,
        "rows": 8
       }
      },
      "text/html": [
       "<div>\n",
       "<style scoped>\n",
       "    .dataframe tbody tr th:only-of-type {\n",
       "        vertical-align: middle;\n",
       "    }\n",
       "\n",
       "    .dataframe tbody tr th {\n",
       "        vertical-align: top;\n",
       "    }\n",
       "\n",
       "    .dataframe thead th {\n",
       "        text-align: right;\n",
       "    }\n",
       "</style>\n",
       "<table border=\"1\" class=\"dataframe\">\n",
       "  <thead>\n",
       "    <tr style=\"text-align: right;\">\n",
       "      <th></th>\n",
       "      <th>age</th>\n",
       "      <th>study_hours_per_day</th>\n",
       "      <th>social_media_hours</th>\n",
       "      <th>netflix_hours</th>\n",
       "      <th>attendance_percentage</th>\n",
       "      <th>sleep_hours</th>\n",
       "      <th>exercise_frequency</th>\n",
       "      <th>mental_health_rating</th>\n",
       "      <th>exam_score</th>\n",
       "    </tr>\n",
       "  </thead>\n",
       "  <tbody>\n",
       "    <tr>\n",
       "      <th>count</th>\n",
       "      <td>1000.0000</td>\n",
       "      <td>1000.00000</td>\n",
       "      <td>1000.000000</td>\n",
       "      <td>1000.000000</td>\n",
       "      <td>997.000000</td>\n",
       "      <td>1000.000000</td>\n",
       "      <td>1000.000000</td>\n",
       "      <td>1000.000000</td>\n",
       "      <td>1000.000000</td>\n",
       "    </tr>\n",
       "    <tr>\n",
       "      <th>mean</th>\n",
       "      <td>20.4980</td>\n",
       "      <td>3.55010</td>\n",
       "      <td>2.505500</td>\n",
       "      <td>1.819700</td>\n",
       "      <td>83.995286</td>\n",
       "      <td>6.470100</td>\n",
       "      <td>3.042000</td>\n",
       "      <td>5.438000</td>\n",
       "      <td>69.601500</td>\n",
       "    </tr>\n",
       "    <tr>\n",
       "      <th>std</th>\n",
       "      <td>2.3081</td>\n",
       "      <td>1.46889</td>\n",
       "      <td>1.172422</td>\n",
       "      <td>1.075118</td>\n",
       "      <td>9.909688</td>\n",
       "      <td>1.226377</td>\n",
       "      <td>2.025423</td>\n",
       "      <td>2.847501</td>\n",
       "      <td>16.888564</td>\n",
       "    </tr>\n",
       "    <tr>\n",
       "      <th>min</th>\n",
       "      <td>17.0000</td>\n",
       "      <td>0.00000</td>\n",
       "      <td>0.000000</td>\n",
       "      <td>0.000000</td>\n",
       "      <td>10.000000</td>\n",
       "      <td>3.200000</td>\n",
       "      <td>0.000000</td>\n",
       "      <td>1.000000</td>\n",
       "      <td>18.400000</td>\n",
       "    </tr>\n",
       "    <tr>\n",
       "      <th>25%</th>\n",
       "      <td>18.7500</td>\n",
       "      <td>2.60000</td>\n",
       "      <td>1.700000</td>\n",
       "      <td>1.000000</td>\n",
       "      <td>77.900000</td>\n",
       "      <td>5.600000</td>\n",
       "      <td>1.000000</td>\n",
       "      <td>3.000000</td>\n",
       "      <td>58.475000</td>\n",
       "    </tr>\n",
       "    <tr>\n",
       "      <th>50%</th>\n",
       "      <td>20.0000</td>\n",
       "      <td>3.50000</td>\n",
       "      <td>2.500000</td>\n",
       "      <td>1.800000</td>\n",
       "      <td>84.400000</td>\n",
       "      <td>6.500000</td>\n",
       "      <td>3.000000</td>\n",
       "      <td>5.000000</td>\n",
       "      <td>70.500000</td>\n",
       "    </tr>\n",
       "    <tr>\n",
       "      <th>75%</th>\n",
       "      <td>23.0000</td>\n",
       "      <td>4.50000</td>\n",
       "      <td>3.300000</td>\n",
       "      <td>2.525000</td>\n",
       "      <td>91.100000</td>\n",
       "      <td>7.300000</td>\n",
       "      <td>5.000000</td>\n",
       "      <td>8.000000</td>\n",
       "      <td>81.325000</td>\n",
       "    </tr>\n",
       "    <tr>\n",
       "      <th>max</th>\n",
       "      <td>24.0000</td>\n",
       "      <td>8.30000</td>\n",
       "      <td>7.200000</td>\n",
       "      <td>5.400000</td>\n",
       "      <td>100.000000</td>\n",
       "      <td>10.000000</td>\n",
       "      <td>6.000000</td>\n",
       "      <td>10.000000</td>\n",
       "      <td>100.000000</td>\n",
       "    </tr>\n",
       "  </tbody>\n",
       "</table>\n",
       "</div>"
      ],
      "text/plain": [
       "             age  study_hours_per_day  social_media_hours  netflix_hours  \\\n",
       "count  1000.0000           1000.00000         1000.000000    1000.000000   \n",
       "mean     20.4980              3.55010            2.505500       1.819700   \n",
       "std       2.3081              1.46889            1.172422       1.075118   \n",
       "min      17.0000              0.00000            0.000000       0.000000   \n",
       "25%      18.7500              2.60000            1.700000       1.000000   \n",
       "50%      20.0000              3.50000            2.500000       1.800000   \n",
       "75%      23.0000              4.50000            3.300000       2.525000   \n",
       "max      24.0000              8.30000            7.200000       5.400000   \n",
       "\n",
       "       attendance_percentage  sleep_hours  exercise_frequency  \\\n",
       "count             997.000000  1000.000000         1000.000000   \n",
       "mean               83.995286     6.470100            3.042000   \n",
       "std                 9.909688     1.226377            2.025423   \n",
       "min                10.000000     3.200000            0.000000   \n",
       "25%                77.900000     5.600000            1.000000   \n",
       "50%                84.400000     6.500000            3.000000   \n",
       "75%                91.100000     7.300000            5.000000   \n",
       "max               100.000000    10.000000            6.000000   \n",
       "\n",
       "       mental_health_rating   exam_score  \n",
       "count           1000.000000  1000.000000  \n",
       "mean               5.438000    69.601500  \n",
       "std                2.847501    16.888564  \n",
       "min                1.000000    18.400000  \n",
       "25%                3.000000    58.475000  \n",
       "50%                5.000000    70.500000  \n",
       "75%                8.000000    81.325000  \n",
       "max               10.000000   100.000000  "
      ]
     },
     "execution_count": 8,
     "metadata": {},
     "output_type": "execute_result"
    }
   ],
   "source": [
    "df.describe()"
   ]
  },
  {
   "cell_type": "markdown",
   "id": "d3a87287",
   "metadata": {},
   "source": [
    "3. Outlier"
   ]
  },
  {
   "cell_type": "code",
   "execution_count": 14,
   "id": "dfec892c",
   "metadata": {},
   "outputs": [
    {
     "name": "stdout",
     "output_type": "stream",
     "text": [
      "Kolom age : 0 outlier\n",
      "Kolom study_hours_per_day : 7 outlier\n",
      "Kolom social_media_hours : 5 outlier\n",
      "Kolom netflix_hours : 4 outlier\n",
      "Kolom attendance_percentage : 5 outlier\n",
      "Kolom sleep_hours : 2 outlier\n",
      "Kolom exercise_frequency : 0 outlier\n",
      "Kolom mental_health_rating : 0 outlier\n",
      "Kolom exam_score : 2 outlier\n"
     ]
    }
   ],
   "source": [
    "def check_outlier(data):\n",
    "    Q1 = df[data].quantile(0.25)\n",
    "    Q3 = df[data].quantile(0.75)\n",
    "    IQR = Q3 - Q1\n",
    "    lower = Q1 - 1.5 * IQR\n",
    "    upper = Q3 + 1.5 * IQR\n",
    "\n",
    "    outlier = df[(df[data] < lower) | (df[data] > upper)]\n",
    "    print(f\"Kolom {data} : {len(outlier)} outlier\")\n",
    "\n",
    "numeric = df.select_dtypes(include='number').columns\n",
    "for i in numeric:\n",
    "    check_outlier(i)"
   ]
  },
  {
   "cell_type": "markdown",
   "id": "39776582",
   "metadata": {},
   "source": [
    "4. Visualization"
   ]
  },
  {
   "cell_type": "code",
   "execution_count": null,
   "id": "7e77f5de",
   "metadata": {},
   "outputs": [],
   "source": []
  },
  {
   "cell_type": "markdown",
   "id": "16987650",
   "metadata": {},
   "source": [
    "## Data Preparation"
   ]
  },
  {
   "cell_type": "markdown",
   "id": "0aa39feb",
   "metadata": {},
   "source": [
    "1. Handling Missing Values"
   ]
  },
  {
   "cell_type": "code",
   "execution_count": null,
   "id": "e4f49859",
   "metadata": {},
   "outputs": [],
   "source": []
  },
  {
   "cell_type": "markdown",
   "id": "9c3af85a",
   "metadata": {},
   "source": [
    "2. Mengkonversi Tipe Data..."
   ]
  },
  {
   "cell_type": "code",
   "execution_count": null,
   "id": "3cfcc4a4",
   "metadata": {},
   "outputs": [],
   "source": []
  },
  {
   "cell_type": "markdown",
   "id": "386cfabe",
   "metadata": {},
   "source": [
    "3. Handling Outlier"
   ]
  },
  {
   "cell_type": "code",
   "execution_count": null,
   "id": "f3fd4538",
   "metadata": {},
   "outputs": [],
   "source": [
    "def handling_outlier(data):\n",
    "    Q1 = df[data].quantile(0.25)\n",
    "    Q3 = df[data].quantile(0.75)\n",
    "    IQR = Q3 - Q1\n",
    "    lower = Q1 - 1.5 * IQR\n",
    "    upper = Q3 + 1.5 * IQR\n",
    "\n",
    "    df.loc[df[data] > upper, data] = upper\n",
    "    df.loc[df[data] < lower, data] = lower"
   ]
  },
  {
   "cell_type": "markdown",
   "id": "63542d9c",
   "metadata": {},
   "source": [
    "4. Splitting Data"
   ]
  },
  {
   "cell_type": "markdown",
   "id": "2ab3de84",
   "metadata": {},
   "source": [
    "## Modelling"
   ]
  },
  {
   "cell_type": "markdown",
   "id": "fa6982bc",
   "metadata": {},
   "source": [
    "## Evaluation"
   ]
  }
 ],
 "metadata": {
  "kernelspec": {
   "display_name": ".venv",
   "language": "python",
   "name": "python3"
  },
  "language_info": {
   "codemirror_mode": {
    "name": "ipython",
    "version": 3
   },
   "file_extension": ".py",
   "mimetype": "text/x-python",
   "name": "python",
   "nbconvert_exporter": "python",
   "pygments_lexer": "ipython3",
   "version": "3.10.0"
  }
 },
 "nbformat": 4,
 "nbformat_minor": 5
}
